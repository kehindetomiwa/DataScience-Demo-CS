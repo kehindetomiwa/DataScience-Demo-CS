{
  "nbformat": 4,
  "nbformat_minor": 0,
  "metadata": {
    "colab": {
      "provenance": [],
      "toc_visible": true,
      "authorship_tag": "ABX9TyNkuH2Qkh46KZxwctcgbQbW",
      "include_colab_link": true
    },
    "kernelspec": {
      "name": "python3",
      "display_name": "Python 3"
    },
    "language_info": {
      "name": "python"
    }
  },
  "cells": [
    {
      "cell_type": "markdown",
      "metadata": {
        "id": "view-in-github",
        "colab_type": "text"
      },
      "source": [
        "<a href=\"https://colab.research.google.com/github/kehindetomiwa/DataScience-Demo-CS/blob/master/DataScienceNotebook.ipynb\" target=\"_parent\"><img src=\"https://colab.research.google.com/assets/colab-badge.svg\" alt=\"Open In Colab\"/></a>"
      ]
    },
    {
      "cell_type": "markdown",
      "source": [
        "## Ingest"
      ],
      "metadata": {
        "id": "yLJLj7wczHzr"
      }
    },
    {
      "cell_type": "code",
      "source": [],
      "metadata": {
        "id": "5sfKxrMizN_u"
      },
      "execution_count": null,
      "outputs": []
    },
    {
      "cell_type": "markdown",
      "source": [
        "## EDA"
      ],
      "metadata": {
        "id": "sAsk1MkLzPus"
      }
    },
    {
      "cell_type": "markdown",
      "source": [
        "## Modeling"
      ],
      "metadata": {
        "id": "XIR3nrMVzePR"
      }
    },
    {
      "cell_type": "markdown",
      "source": [
        "### Classification Algorithm A"
      ],
      "metadata": {
        "id": "7KXvDM5F0FRr"
      }
    },
    {
      "cell_type": "markdown",
      "source": [
        "### Classification Algorithm B"
      ],
      "metadata": {
        "id": "Zlo_Vyqw0Jz-"
      }
    },
    {
      "cell_type": "markdown",
      "source": [
        "## Comclusion"
      ],
      "metadata": {
        "id": "L7BuekKUzheF"
      }
    }
  ]
}